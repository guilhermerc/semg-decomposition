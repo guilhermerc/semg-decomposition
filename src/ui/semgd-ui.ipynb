{
 "cells": [
  {
   "cell_type": "markdown",
   "metadata": {},
   "source": [
    "### Minimalist UI for sEMG decomposition based on Negro et al. (2016)"
   ]
  },
  {
   "cell_type": "markdown",
   "metadata": {},
   "source": [
    "Author: Guilherme Ricioli (<guilherme.riciolic@gmail.com>)"
   ]
  },
  {
   "cell_type": "markdown",
   "metadata": {},
   "source": [
    "Importing libraries, ..."
   ]
  },
  {
   "cell_type": "code",
   "execution_count": 13,
   "metadata": {},
   "outputs": [],
   "source": [
    "import numpy as np                                                               \n",
    "import pandas as pd\n",
    "import matplotlib.pyplot as plt\n",
    "%matplotlib widget\n",
    "\n",
    "import os, glob\n",
    "from datetime import datetime\n",
    "\n",
    "import ipywidgets as widgets\n",
    "from IPython.display import display\n",
    "\n",
    "import sys #\n",
    "sys.path.insert(0, '../') #\n",
    "from semgd import steps # Our module"
   ]
  },
  {
   "cell_type": "markdown",
   "metadata": {},
   "source": [
    "... defining widgets..."
   ]
  },
  {
   "cell_type": "code",
   "execution_count": 19,
   "metadata": {},
   "outputs": [],
   "source": [
    "out =               widgets.Output(layout={'border': '2px solid blue'})\n",
    "\n",
    "## x_loc\n",
    "x_loc_label_widg =  widgets.Label(value=\"Observations matrix (x) location:\")\n",
    "x_loc_widg =        widgets.Text(\n",
    "                        value='../../samples/test/raw.csv',\n",
    "                        placeholder='Type path',\n",
    "                        description='',\n",
    "                        disabled=False,\n",
    "                        layout=widgets.Layout(height='auto', width='auto')\n",
    "                    )\n",
    "\n",
    "## PT_loc\n",
    "PT_loc_label_widg = widgets.Label(value=\"Impulse trains (PT_n's) destination:\")\n",
    "PT_loc_widg =       widgets.Text(\n",
    "                        value='../../samples/test/PTs',\n",
    "                        placeholder='Type path',\n",
    "                        description='',\n",
    "                        disabled=False,\n",
    "                        layout=widgets.Layout(height='auto', width='auto')\n",
    "                    )\n",
    "\n",
    "## note\n",
    "note_label_widg =   widgets.Label(value=\n",
    "                                \"\"\" NOTE: The observations matrix (x) has to be CSV-formatted\n",
    "                                    (rows: channels, columns: samples).\n",
    "                                    Impulse trains (PT_n's) will also follow this format.\"\"\"\n",
    "                                 )\n",
    "\n",
    "## f\n",
    "f_label_widg =      widgets.Label(value=\"Sampling frequency [Hz]:\")\n",
    "f_widg =            widgets.BoundedIntText(\n",
    "                        value=2048,\n",
    "                        min=0,\n",
    "                        max=10000,\n",
    "                        step=1,\n",
    "                        description='',\n",
    "                        disabled=False,\n",
    "                        layout=widgets.Layout(height='auto', width='auto')\n",
    "                    )\n",
    "\n",
    "## R\n",
    "R_label_widg =      widgets.Label(value=\"Extension factor (R):\")\n",
    "R_widg =            widgets.BoundedIntText(\n",
    "                        value=10,\n",
    "                        min=0,\n",
    "                        max=100,\n",
    "                        step=1,\n",
    "                        description='',\n",
    "                        disabled=False,\n",
    "                        layout=widgets.Layout(height='auto', width='auto')\n",
    "                    )\n",
    "\n",
    "## M\n",
    "M_label_widg =      widgets.Label(value=\"Number of iterations (M):\")\n",
    "M_widg =            widgets.BoundedIntText(\n",
    "                        value=50,\n",
    "                        min=0,\n",
    "                        max=1000,\n",
    "                        step=1,\n",
    "                        description='',\n",
    "                        disabled=False,\n",
    "                        layout=widgets.Layout(height='auto', width='auto')\n",
    "                    )\n",
    "\n",
    "## Tolx\n",
    "Tolx_label_widg =   widgets.Label(value=\"Tolerance (Tolx):\")\n",
    "Tolx_widg =         widgets.BoundedFloatText(\n",
    "                        value=0.0001,\n",
    "                        min=0.0,\n",
    "                        max=10.0,\n",
    "                        step=0.0001,\n",
    "                        description='',\n",
    "                        disabled=False,\n",
    "                        layout=widgets.Layout(height='auto', width='auto')    \n",
    "                    )\n",
    "\n",
    "## g\n",
    "g_label_widg =      widgets.Label(value=\"Non-gaussianity meas. function (g):\")\n",
    "g_widg =            widgets.Dropdown(\n",
    "                        options=[('log(cosh(x))', 1)],\n",
    "                        value=1,\n",
    "                        description='',\n",
    "                        disabled=True,\n",
    "                        layout=widgets.Layout(height='auto', width='auto')\n",
    "                    )\n",
    "\n",
    "## TH_SIL\n",
    "TH_SIL_label_widg = widgets.Label(value=\"SIL threshold (TH_SIL):\")\n",
    "TH_SIL_widg =       widgets.FloatSlider(\n",
    "                        value=0.9,\n",
    "                        min=0.0,\n",
    "                        max=1.0,\n",
    "                        step=0.01,\n",
    "                        description='',\n",
    "                        disabled=False,\n",
    "                        continuous_update=False,\n",
    "                        orientation='horizontal',\n",
    "                        readout=True,\n",
    "                        readout_format='.2f',\n",
    "                        layout=widgets.Layout(height='auto', width='auto')\n",
    "                    )\n",
    "\n",
    "## decompose\n",
    "decompose_widg =    widgets.Button(\n",
    "                        description='Decompose!',\n",
    "                        disabled=False,\n",
    "                        button_style='info', # 'success', 'info', 'warning', 'danger' or ''\n",
    "                        tooltip='Starts decomposition',\n",
    "                        icon='',\n",
    "                        layout=widgets.Layout(height='auto', width='auto')\n",
    "                    )\n",
    "\n",
    "@out.capture(clear_output=True)\n",
    "def func(obj):\n",
    "    obj.disabled = True\n",
    "    dt_str = datetime.now().strftime(\"%d-%m-%Y-%H-%M-%S\")\n",
    "    PT_loc_dir = PT_loc_widg.value + \"/\" + dt_str + \"/\" \n",
    "    os.mkdir(PT_loc_dir)\n",
    "    steps.decomposition(x_loc_widg.value,\n",
    "                        PT_loc_dir,\n",
    "                        R_widg.value,\n",
    "                        M_widg.value,\n",
    "                        Tolx_widg.value,\n",
    "                        TH_SIL_widg.value,\n",
    "                        100)\n",
    "    %matplotlib widget\n",
    "    for file_name in glob.glob(PT_loc_dir + '*.csv'):\n",
    "        curr = np.array(pd.read_csv(file_name, header=None))\n",
    "        plt.figure(file_name)\n",
    "        plt.plot((1/f_widg.value)*np.arange(len(curr)), curr)\n",
    "        plt.xlabel('Time [s]') \n",
    "    plt.show()\n",
    "    obj.disabled = False\n",
    "\n",
    "decompose_widg.on_click(func)"
   ]
  },
  {
   "cell_type": "markdown",
   "metadata": {},
   "source": [
    "and creating UI grid."
   ]
  },
  {
   "cell_type": "code",
   "execution_count": 20,
   "metadata": {
    "scrolled": true
   },
   "outputs": [],
   "source": [
    "ROWS, COLUMNS  = 14, 3\n",
    "grid = widgets.GridspecLayout(ROWS, COLUMNS)\n",
    "\n",
    "## x_loc\n",
    "grid[1, 0] = x_loc_label_widg\n",
    "grid[1, 1] = x_loc_widg\n",
    "\n",
    "## PT_loc\n",
    "grid[2, 0] = PT_loc_label_widg\n",
    "grid[2, 1] = PT_loc_widg\n",
    "\n",
    "## note\n",
    "grid[3, :] = note_label_widg\n",
    "\n",
    "## f\n",
    "grid[4, 0] = f_label_widg\n",
    "grid[4, 1] = f_widg\n",
    "\n",
    "#\n",
    "grid[5, :] = widgets.HTML(value=\"<h5><b>Parameters settings</b></h5>\")\n",
    "#\n",
    "\n",
    "## R\n",
    "grid[6, 0] = R_label_widg\n",
    "grid[6, 1] = R_widg\n",
    "\n",
    "## M\n",
    "grid[7, 0] = M_label_widg\n",
    "grid[7, 1] = M_widg\n",
    "\n",
    "## Tolx\n",
    "grid[8, 0] = Tolx_label_widg\n",
    "grid[8, 1] = Tolx_widg\n",
    "\n",
    "## g\n",
    "grid[9, 0] = g_label_widg\n",
    "grid[9, 1] = g_widg\n",
    "\n",
    "## TH_SIL\n",
    "grid[10, 0] = TH_SIL_label_widg\n",
    "grid[10, 1] = TH_SIL_widg\n",
    "\n",
    "## decompose\n",
    "grid[12, 1] = decompose_widg"
   ]
  },
  {
   "cell_type": "markdown",
   "metadata": {},
   "source": [
    "## UI"
   ]
  },
  {
   "cell_type": "code",
   "execution_count": 21,
   "metadata": {},
   "outputs": [
    {
     "data": {
      "application/vnd.jupyter.widget-view+json": {
       "model_id": "8eb387c1f7c74f06bb1f131ace61b818",
       "version_major": 2,
       "version_minor": 0
      },
      "text/plain": [
       "GridspecLayout(children=(Label(value='Observations matrix (x) location:', layout=Layout(grid_area='widget001')…"
      ]
     },
     "metadata": {},
     "output_type": "display_data"
    }
   ],
   "source": [
    "display(grid)"
   ]
  },
  {
   "cell_type": "code",
   "execution_count": 22,
   "metadata": {},
   "outputs": [
    {
     "data": {
      "application/vnd.jupyter.widget-view+json": {
       "model_id": "b6b1d5b878fd47ec8b7f732f9a79d0d0",
       "version_major": 2,
       "version_minor": 0
      },
      "text/plain": [
       "Output(layout=Layout(border='2px solid blue'))"
      ]
     },
     "metadata": {},
     "output_type": "display_data"
    }
   ],
   "source": [
    "display(out)"
   ]
  }
 ],
 "metadata": {
  "kernelspec": {
   "display_name": "Python 3",
   "language": "python",
   "name": "python3"
  },
  "language_info": {
   "codemirror_mode": {
    "name": "ipython",
    "version": 3
   },
   "file_extension": ".py",
   "mimetype": "text/x-python",
   "name": "python",
   "nbconvert_exporter": "python",
   "pygments_lexer": "ipython3",
   "version": "3.7.4"
  }
 },
 "nbformat": 4,
 "nbformat_minor": 2
}
